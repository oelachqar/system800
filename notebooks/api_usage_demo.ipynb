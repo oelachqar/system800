{
 "cells": [
  {
   "cell_type": "code",
   "execution_count": null,
   "metadata": {},
   "outputs": [],
   "source": [
    "import requests"
   ]
  },
  {
   "cell_type": "markdown",
   "metadata": {},
   "source": [
    "### Config"
   ]
  },
  {
   "cell_type": "code",
   "execution_count": null,
   "metadata": {},
   "outputs": [],
   "source": [
    "base_url = 'https://system800.azurewebsites.net'\n",
    "#base_url = 'http://localhost:5000'"
   ]
  },
  {
   "cell_type": "markdown",
   "metadata": {},
   "source": [
    "### Get API token"
   ]
  },
  {
   "cell_type": "code",
   "execution_count": null,
   "metadata": {},
   "outputs": [],
   "source": [
    "username = 'user'\n",
    "password = '123'\n",
    "\n",
    "endpoint = '/tokens'\n",
    "response = requests.post(base_url + endpoint, auth=(username, password))\n",
    "token = response.json().get('token')"
   ]
  },
  {
   "cell_type": "markdown",
   "metadata": {},
   "source": [
    "### Initiate processing for ain"
   ]
  },
  {
   "cell_type": "code",
   "execution_count": null,
   "metadata": {},
   "outputs": [],
   "source": [
    "ain = '12345678'\n",
    "callback_url = base_url + '/debug_callback'  # use debug callback for testing purposes only\n",
    "\n",
    "endpoint = '/process'\n",
    "\n",
    "params = {'ain': ain, 'callback_url': callback_url}\n",
    "headers = {'Authorization': f'Bearer {token}'}\n",
    "\n",
    "response = requests.post(base_url + endpoint, data=params, headers=headers)\n",
    "task_id = response.json().get('task_id')"
   ]
  },
  {
   "cell_type": "markdown",
   "metadata": {},
   "source": [
    "### Check processing status"
   ]
  },
  {
   "cell_type": "code",
   "execution_count": null,
   "metadata": {},
   "outputs": [],
   "source": [
    "endpoint = f'/status/{task_id}'\n",
    "\n",
    "headers = {'Authorization': f'Bearer {token}'}\n",
    "\n",
    "response = requests.get(base_url + endpoint, headers=headers)\n",
    "response.json()"
   ]
  }
 ],
 "metadata": {
  "kernelspec": {
   "display_name": "Python 3",
   "language": "python",
   "name": "python3"
  },
  "language_info": {
   "codemirror_mode": {
    "name": "ipython",
    "version": 3
   },
   "file_extension": ".py",
   "mimetype": "text/x-python",
   "name": "python",
   "nbconvert_exporter": "python",
   "pygments_lexer": "ipython3",
   "version": "3.6.6"
  }
 },
 "nbformat": 4,
 "nbformat_minor": 2
}
